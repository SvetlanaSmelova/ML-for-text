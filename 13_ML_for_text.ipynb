{
  "nbformat" : 4,
  "nbformat_minor" : 4,
  "metadata" : {
    "notebookPath" : "conversational_cased_L-12_H-768_A-12_pt_v1/ML_for_text.ipynb",
    "language_info" : {
      "codemirror_mode" : {
        "name" : "ipython",
        "version" : 3
      },
      "file_extension" : ".py",
      "mimetype" : "text/x-python",
      "name" : "python",
      "nbconvert_exporter" : "python",
      "pygments_lexer" : "ipython3",
      "version" : "3.7.7"
    },
    "notebookId" : "ebb493b2-f0ef-4d80-99dc-1305195b9b55",
    "colab" : {
      "provenance" : [ ]
    },
    "ExecuteTimeLog" : [ {
      "duration" : 1714,
      "start_time" : "2023-03-19T17:52:19.391Z"
    }, {
      "duration" : 3883,
      "start_time" : "2023-03-19T17:52:21.107Z"
    }, {
      "duration" : 13,
      "start_time" : "2023-03-19T17:52:49.296Z"
    }, {
      "duration" : 34,
      "start_time" : "2023-03-19T17:53:14.141Z"
    }, {
      "duration" : 8,
      "start_time" : "2023-03-19T18:17:50.598Z"
    }, {
      "duration" : 7,
      "start_time" : "2023-03-19T18:17:54.951Z"
    }, {
      "duration" : 1846,
      "start_time" : "2023-03-19T18:18:22.999Z"
    }, {
      "duration" : 7,
      "start_time" : "2023-03-19T18:18:31.488Z"
    }, {
      "duration" : 7,
      "start_time" : "2023-03-19T18:18:39.048Z"
    }, {
      "duration" : 7,
      "start_time" : "2023-03-19T18:18:46.224Z"
    }, {
      "duration" : 6,
      "start_time" : "2023-03-19T18:44:58.502Z"
    }, {
      "duration" : 4,
      "start_time" : "2023-03-19T18:45:04.295Z"
    }, {
      "duration" : 20,
      "start_time" : "2023-03-19T18:54:08.927Z"
    }, {
      "duration" : 3,
      "start_time" : "2023-03-19T18:54:19.803Z"
    }, {
      "duration" : 2271,
      "start_time" : "2023-03-19T18:54:26.892Z"
    }, {
      "duration" : 48,
      "start_time" : "2023-03-19T18:55:33.920Z"
    }, {
      "duration" : 1836,
      "start_time" : "2023-03-19T18:55:43.387Z"
    }, {
      "duration" : 3985,
      "start_time" : "2023-03-19T18:55:45.225Z"
    }, {
      "duration" : 14,
      "start_time" : "2023-03-19T18:55:49.211Z"
    }, {
      "duration" : 34,
      "start_time" : "2023-03-19T18:55:49.227Z"
    }, {
      "duration" : 4,
      "start_time" : "2023-03-19T18:55:49.262Z"
    }, {
      "duration" : 4,
      "start_time" : "2023-03-19T18:55:49.268Z"
    }, {
      "duration" : 2115,
      "start_time" : "2023-03-19T18:55:49.273Z"
    }, {
      "duration" : 3,
      "start_time" : "2023-03-19T19:01:44.204Z"
    }, {
      "duration" : 1699,
      "start_time" : "2023-03-19T19:01:53.260Z"
    }, {
      "duration" : 3936,
      "start_time" : "2023-03-19T19:01:54.961Z"
    }, {
      "duration" : 13,
      "start_time" : "2023-03-19T19:01:58.899Z"
    }, {
      "duration" : 32,
      "start_time" : "2023-03-19T19:01:58.914Z"
    }, {
      "duration" : 3,
      "start_time" : "2023-03-19T19:01:58.948Z"
    }, {
      "duration" : 4,
      "start_time" : "2023-03-19T19:01:58.953Z"
    }, {
      "duration" : 2156,
      "start_time" : "2023-03-19T19:01:58.958Z"
    }, {
      "duration" : 3,
      "start_time" : "2023-03-19T19:26:43.852Z"
    }, {
      "duration" : 1758,
      "start_time" : "2023-03-19T19:26:56.145Z"
    }, {
      "duration" : 4071,
      "start_time" : "2023-03-19T19:26:57.905Z"
    }, {
      "duration" : 14,
      "start_time" : "2023-03-19T19:27:01.978Z"
    }, {
      "duration" : 47,
      "start_time" : "2023-03-19T19:27:01.993Z"
    }, {
      "duration" : 5,
      "start_time" : "2023-03-19T19:27:02.042Z"
    }, {
      "duration" : 15,
      "start_time" : "2023-03-19T19:27:02.048Z"
    }, {
      "duration" : 2024,
      "start_time" : "2023-03-19T19:27:02.065Z"
    }, {
      "duration" : 3,
      "start_time" : "2023-03-19T19:29:17.482Z"
    }, {
      "duration" : 1864,
      "start_time" : "2023-03-19T19:29:52.915Z"
    }, {
      "duration" : 4071,
      "start_time" : "2023-03-19T19:29:54.781Z"
    }, {
      "duration" : 15,
      "start_time" : "2023-03-19T19:29:58.854Z"
    }, {
      "duration" : 35,
      "start_time" : "2023-03-19T19:29:58.871Z"
    }, {
      "duration" : 17,
      "start_time" : "2023-03-19T19:29:58.907Z"
    }, {
      "duration" : 3,
      "start_time" : "2023-03-19T19:29:58.927Z"
    }, {
      "duration" : 2206,
      "start_time" : "2023-03-19T19:29:58.932Z"
    }, {
      "duration" : 192,
      "start_time" : "2023-03-19T19:36:25.783Z"
    }, {
      "duration" : 0,
      "start_time" : "2023-03-19T19:39:33.056Z"
    }, {
      "duration" : 4,
      "start_time" : "2023-03-19T19:40:50.126Z"
    }, {
      "duration" : 4,
      "start_time" : "2023-03-19T19:45:44.503Z"
    }, {
      "duration" : 1353,
      "start_time" : "2023-03-19T20:18:26.903Z"
    }, {
      "duration" : 1056,
      "start_time" : "2023-03-19T20:18:28.258Z"
    }, {
      "duration" : 15,
      "start_time" : "2023-03-19T20:18:29.315Z"
    }, {
      "duration" : 34,
      "start_time" : "2023-03-19T20:18:29.332Z"
    }, {
      "duration" : 6,
      "start_time" : "2023-03-19T20:18:29.369Z"
    }, {
      "duration" : 11,
      "start_time" : "2023-03-19T20:18:29.377Z"
    }, {
      "duration" : 8,
      "start_time" : "2023-03-19T20:18:29.390Z"
    }, {
      "duration" : 21,
      "start_time" : "2023-03-19T20:18:29.399Z"
    }, {
      "duration" : 230,
      "start_time" : "2023-03-19T20:18:29.421Z"
    }, {
      "duration" : 0,
      "start_time" : "2023-03-19T20:18:29.653Z"
    }, {
      "duration" : 528,
      "start_time" : "2023-03-19T20:18:38.173Z"
    }, {
      "duration" : 9,
      "start_time" : "2023-03-19T20:18:45.754Z"
    }, {
      "duration" : 2908,
      "start_time" : "2023-03-19T20:21:59.023Z"
    }, {
      "duration" : 916,
      "start_time" : "2023-03-19T20:22:01.933Z"
    }, {
      "duration" : 15,
      "start_time" : "2023-03-19T20:22:02.851Z"
    }, {
      "duration" : 31,
      "start_time" : "2023-03-19T20:22:02.868Z"
    }, {
      "duration" : 22,
      "start_time" : "2023-03-19T20:22:02.902Z"
    }, {
      "duration" : 3,
      "start_time" : "2023-03-19T20:22:02.925Z"
    }, {
      "duration" : 7,
      "start_time" : "2023-03-19T20:22:02.930Z"
    }, {
      "duration" : 14,
      "start_time" : "2023-03-19T20:22:02.939Z"
    }, {
      "duration" : 601,
      "start_time" : "2023-03-19T20:22:02.954Z"
    }, {
      "duration" : 0,
      "start_time" : "2023-03-19T20:22:03.557Z"
    }, {
      "duration" : 2741,
      "start_time" : "2023-03-19T20:23:49.402Z"
    }, {
      "duration" : 925,
      "start_time" : "2023-03-19T20:23:52.145Z"
    }, {
      "duration" : 14,
      "start_time" : "2023-03-19T20:23:53.072Z"
    }, {
      "duration" : 40,
      "start_time" : "2023-03-19T20:23:53.088Z"
    }, {
      "duration" : 4,
      "start_time" : "2023-03-19T20:23:53.130Z"
    }, {
      "duration" : 15,
      "start_time" : "2023-03-19T20:23:53.135Z"
    }, {
      "duration" : 10,
      "start_time" : "2023-03-19T20:23:53.152Z"
    }, {
      "duration" : 5,
      "start_time" : "2023-03-19T20:23:53.163Z"
    }, {
      "duration" : 2328,
      "start_time" : "2023-03-19T20:23:53.169Z"
    }, {
      "duration" : 0,
      "start_time" : "2023-03-19T20:23:55.499Z"
    }, {
      "duration" : 2772,
      "start_time" : "2023-03-19T20:28:28.923Z"
    }, {
      "duration" : 917,
      "start_time" : "2023-03-19T20:28:31.697Z"
    }, {
      "duration" : 17,
      "start_time" : "2023-03-19T20:28:32.616Z"
    }, {
      "duration" : 36,
      "start_time" : "2023-03-19T20:28:32.635Z"
    }, {
      "duration" : 6,
      "start_time" : "2023-03-19T20:28:32.673Z"
    }, {
      "duration" : 5,
      "start_time" : "2023-03-19T20:28:32.680Z"
    }, {
      "duration" : 4,
      "start_time" : "2023-03-19T20:28:32.687Z"
    }, {
      "duration" : 30,
      "start_time" : "2023-03-19T20:28:32.693Z"
    }, {
      "duration" : 4062,
      "start_time" : "2023-03-19T20:28:32.725Z"
    }, {
      "duration" : 0,
      "start_time" : "2023-03-19T20:28:36.790Z"
    }, {
      "duration" : 3863,
      "start_time" : "2023-03-19T20:28:54.713Z"
    }, {
      "duration" : 81612,
      "start_time" : "2023-03-19T20:28:59.052Z"
    }, {
      "duration" : 0,
      "start_time" : "2023-03-19T20:30:20.667Z"
    }, {
      "duration" : 0,
      "start_time" : "2023-03-19T20:30:20.668Z"
    }, {
      "duration" : 2676,
      "start_time" : "2023-03-19T20:30:27.105Z"
    }, {
      "duration" : 985,
      "start_time" : "2023-03-19T20:30:29.783Z"
    }, {
      "duration" : 15,
      "start_time" : "2023-03-19T20:30:30.770Z"
    }, {
      "duration" : 58,
      "start_time" : "2023-03-19T20:30:30.787Z"
    }, {
      "duration" : 29,
      "start_time" : "2023-03-19T20:30:30.847Z"
    }, {
      "duration" : 39,
      "start_time" : "2023-03-19T20:30:30.878Z"
    }, {
      "duration" : 45,
      "start_time" : "2023-03-19T20:30:30.919Z"
    }, {
      "duration" : 33,
      "start_time" : "2023-03-19T20:30:30.966Z"
    }, {
      "duration" : 291077,
      "start_time" : "2023-03-19T20:30:31.000Z"
    }, {
      "duration" : 0,
      "start_time" : "2023-03-19T20:35:22.079Z"
    }, {
      "duration" : 0,
      "start_time" : "2023-03-19T20:35:22.081Z"
    }, {
      "duration" : 2784,
      "start_time" : "2023-03-19T20:35:28.814Z"
    }, {
      "duration" : 941,
      "start_time" : "2023-03-19T20:35:31.600Z"
    }, {
      "duration" : 14,
      "start_time" : "2023-03-19T20:35:32.543Z"
    }, {
      "duration" : 34,
      "start_time" : "2023-03-19T20:35:32.558Z"
    }, {
      "duration" : 4,
      "start_time" : "2023-03-19T20:35:32.594Z"
    }, {
      "duration" : 5,
      "start_time" : "2023-03-19T20:35:32.599Z"
    }, {
      "duration" : 3,
      "start_time" : "2023-03-19T20:35:32.623Z"
    }, {
      "duration" : 5,
      "start_time" : "2023-03-19T20:35:32.628Z"
    }, {
      "duration" : 21968,
      "start_time" : "2023-03-19T20:35:32.635Z"
    }, {
      "duration" : 0,
      "start_time" : "2023-03-19T20:35:54.605Z"
    }, {
      "duration" : 0,
      "start_time" : "2023-03-19T20:35:54.624Z"
    }, {
      "duration" : 2672,
      "start_time" : "2023-03-19T20:36:06.003Z"
    }, {
      "duration" : 948,
      "start_time" : "2023-03-19T20:36:08.677Z"
    }, {
      "duration" : 14,
      "start_time" : "2023-03-19T20:36:09.627Z"
    }, {
      "duration" : 35,
      "start_time" : "2023-03-19T20:36:09.643Z"
    }, {
      "duration" : 5,
      "start_time" : "2023-03-19T20:36:09.679Z"
    }, {
      "duration" : 4,
      "start_time" : "2023-03-19T20:36:09.685Z"
    }, {
      "duration" : 34,
      "start_time" : "2023-03-19T20:36:09.690Z"
    } ],
    "toc" : {
      "base_numbering" : 1,
      "nav_menu" : { },
      "number_sections" : true,
      "sideBar" : true,
      "skip_h1_title" : true,
      "title_cell" : "Содержание",
      "title_sidebar" : "Contents",
      "toc_cell" : true,
      "toc_position" : {
        "height" : "calc(100% - 180px)",
        "left" : "10px",
        "top" : "150px",
        "width" : "302.391px"
      },
      "toc_section_display" : true,
      "toc_window_display" : false
    },
    "kernelspec" : {
      "name" : "python3",
      "description" : "IPython kernel implementation for DataSphere",
      "spec" : {
        "language" : "python",
        "display_name" : "DataSphere Kernel",
        "codemirror_mode" : "python",
        "argv" : [ "/bin/true" ],
        "env" : { },
        "help_links" : [ ],
        "metadata" : {
          "app" : "YANDEX_DATASPHERE"
        }
      },
      "resources" : { },
      "display_name" : "DataSphere Kernel"
    }
  },
  "cells" : [ {
    "cell_type" : "markdown",
    "source" : [ "# Проект по машинному обучению для текстов " ],
    "metadata" : {
      "cellId" : "8anebagnlm8aauql0i8wd",
      "id" : "Y6Eo4Z4Q0NUs"
    }
  }, {
    "cell_type" : "markdown",
    "source" : [ "<h1>Содержание<span class=\"tocSkip\"></span></h1>\n", "<div class=\"toc\"><ul class=\"toc-item\"><li><span><a href=\"#Подготовка-данных\" data-toc-modified-id=\"Подготовка-данных-1\"><span class=\"toc-item-num\">1&nbsp;&nbsp;</span>Подготовка данных</a></span><ul class=\"toc-item\"><li><span><a href=\"#Проверка-целостности-данных-в-файле\" data-toc-modified-id=\"Проверка-целостности-данных-в-файле-1.1\"><span class=\"toc-item-num\">1.1&nbsp;&nbsp;</span>Проверка целостности данных в файле</a></span></li><li><span><a href=\"#Подготовка-данных\" data-toc-modified-id=\"Подготовка-данных-1.2\"><span class=\"toc-item-num\">1.2&nbsp;&nbsp;</span>Подготовка данных</a></span></li></ul></li><li><span><a href=\"#Обучение-моделей\" data-toc-modified-id=\"Обучение-моделей-2\"><span class=\"toc-item-num\">2&nbsp;&nbsp;</span>Обучение моделей</a></span><ul class=\"toc-item\"><li><span><a href=\"#Логистическая-ригресия\" data-toc-modified-id=\"Логистическая-ригресия-2.1\"><span class=\"toc-item-num\">2.1&nbsp;&nbsp;</span>Логистическая ригресия</a></span></li><li><span><a href=\"#Случайный-лес-решающих-деревьев\" data-toc-modified-id=\"Случайный-лес-решающих-деревьев-2.2\"><span class=\"toc-item-num\">2.2&nbsp;&nbsp;</span>Случайный лес решающих деревьев</a></span></li><li><span><a href=\"#CatBoost\" data-toc-modified-id=\"CatBoost-2.3\"><span class=\"toc-item-num\">2.3&nbsp;&nbsp;</span>CatBoost</a></span></li><li><span><a href=\"#LGBMClassifier\" data-toc-modified-id=\"LGBMClassifier-2.4\"><span class=\"toc-item-num\">2.4&nbsp;&nbsp;</span>LGBMClassifier</a></span></li><li><span><a href=\"#Анализ-полученных-результатов\" data-toc-modified-id=\"Анализ-полученных-результатов-2.5\"><span class=\"toc-item-num\">2.5&nbsp;&nbsp;</span>Анализ полученных результатов</a></span></li><li><span><a href=\"#Проверка-лучшей-модели-на-тестовых-данных\" data-toc-modified-id=\"Проверка-лучшей-модели-на-тестовых-данных-2.6\"><span class=\"toc-item-num\">2.6&nbsp;&nbsp;</span>Проверка лучшей модели на тестовых данных</a></span></li></ul></li><li><span><a href=\"#Выводы\" data-toc-modified-id=\"Выводы-3\"><span class=\"toc-item-num\">3&nbsp;&nbsp;</span>Выводы</a></span></li><li><span><a href=\"#Чек-лист-проверки\" data-toc-modified-id=\"Чек-лист-проверки-4\"><span class=\"toc-item-num\">4&nbsp;&nbsp;</span>Чек-лист проверки</a></span></li></ul></div>" ],
    "metadata" : {
      "cellId" : "zr2isxsiyboizhjkf2ot",
      "id" : "ZVcHpi6n0NUn"
    }
  }, {
    "cell_type" : "markdown",
    "source" : [ "**Описание проекта**\n", "\n", "Интернет-магазин «Викишоп» запускает новый сервис. Теперь пользователи могут редактировать и дополнять описания товаров, как в вики-сообществах. То есть клиенты предлагают свои правки и комментируют изменения других. Магазину нужен инструмент, который будет искать токсичные комментарии и отправлять их на модерацию. \n", "\n", "Обучите модель классифицировать комментарии на позитивные и негативные. В вашем распоряжении набор данных с разметкой о токсичности правок.\n", "\n", "Постройте модель со значением метрики качества *F1* не меньше 0.75. \n", "\n", "**Инструкция по выполнению проекта**\n", "\n", "1. Загрузить и подготовить данные.\n", "2. Обучить разные модели. \n", "3. Сделайть выводы.\n", "\n", "Для выполнения проекта была выбрана библиотека BERT/\n", "\n", "**Описание данных**\n", "\n", "Данные находятся в файле `toxic_comments.csv`. В столбеце *text* содержится текст комментария, а *toxic* — целевой признак." ],
    "metadata" : {
      "cellId" : "7jv4rxkceutuyg6v82gjeo",
      "id" : "TLBrnjfJ0NUt"
    }
  }, {
    "cell_type" : "markdown",
    "source" : [ "## Подготовка данных" ],
    "metadata" : {
      "cellId" : "bdvko983g8un5frowde2hq",
      "id" : "pWuAhkzQ0NUt"
    }
  }, {
    "cell_type" : "code",
    "source" : [ "import pandas as pd\n", "import numpy as np\n", "import torch\n", "import transformers\n", "from tqdm import tqdm\n", "from tqdm import notebook\n", "from sklearn.utils import shuffle\n", "from sklearn.feature_extraction.text import CountVectorizer, TfidfVectorizer\n", "from transformers import AutoTokenizer, AutoModelForSequenceClassification\n", "from sklearn.metrics import f1_score\n", "from sklearn.model_selection import train_test_split, GridSearchCV\n", "from sklearn.linear_model import LogisticRegression\n", "from sklearn.ensemble import RandomForestClassifier\n", "from lightgbm import LGBMClassifier" ],
    "metadata" : {
      "outputId" : "ebabb56b-d61d-4fd8-dad9-c74d9346b3ee",
      "id" : "x7_i9Y4y0NUu",
      "cellId" : "mh6cha0x264udgi8r8meg",
      "colab" : {
        "base_uri" : "https://localhost:8080/"
      }
    },
    "outputs" : [ ],
    "execution_count" : 1
  }, {
    "cell_type" : "code",
    "source" : [ "# загрузка данных\n", "!wget https://***/datasets/toxic_comments.csv" ],
    "metadata" : {
      "outputId" : "0f6254b9-12a9-4282-ba2a-3cb2ee2cc39e",
      "id" : "lvuuYdyA-LrM",
      "scrolled" : true,
      "cellId" : "s341fcspz1f430sv1nky9",
      "colab" : {
        "base_uri" : "https://localhost:8080/",
        "height" : 73
      }
    },
    "outputs" : [ {
      "name" : "stderr",
      "output_type" : "stream",
      "text" : [ "--2023-03-31 09:21:55--  https://***/datasets/toxic_comments.csv\n"]
    } ],
    "execution_count" : 2
  }, {
    "cell_type" : "markdown",
    "source" : [ "### Проверка целостности данных в файле" ],
    "metadata" : {
      "cellId" : "ro1ff5rkwvjgamyodont8r",
      "id" : "lTsyxjP90NUv"
    }
  }, {
    "cell_type" : "code",
    "source" : [ "try:\n", "    data = pd.read_csv('/datasets/toxic_comments.csv', index_col=[0])\n", "except:\n", "    data = pd.read_csv(\n", "        'https://code.s3.yandex.net/datasets/toxic_comments.csv', index_col=[0])" ],
    "metadata" : {
      "cellId" : "ackt7gapjquibfeg4z5fsd",
      "id" : "_vXgLNRs0NUw"
    },
    "outputs" : [ ],
    "execution_count" : 3
  }, {
    "cell_type" : "code",
    "source" : [ "data.sample(15)" ],
    "metadata" : {
      "outputId" : "8c670d8e-2f9e-4b4f-ed5e-a0b927ec86f7",
      "id" : "4RHFbGKa0NUw",
      "cellId" : "8keqrvq1jtqgyjlo48bfew",
      "colab" : {
        "base_uri" : "https://localhost:8080/",
        "height" : 206
      }
    },
    "outputs" : [ {
      "data" : {
        "text/html" : [ "<div>\n", "<style scoped>\n", "    .dataframe tbody tr th:only-of-type {\n", "        vertical-align: middle;\n", "    }\n", "\n", "    .dataframe tbody tr th {\n", "        vertical-align: top;\n", "    }\n", "\n", "    .dataframe thead th {\n", "        text-align: right;\n", "    }\n", "</style>\n", "<table border=\"1\" class=\"dataframe\">\n", "  <thead>\n", "    <tr style=\"text-align: right;\">\n", "      <th></th>\n", "      <th>text</th>\n", "      <th>toxic</th>\n", "    </tr>\n", "  </thead>\n", "  <tbody>\n", "    <tr>\n", "      <th>49369</th>\n", "      <td>I propose that you mind you own business and k...</td>\n", "      <td>0</td>\n", "    </tr>\n", "    <tr>\n", "      <th>156625</th>\n", "      <td>Contested deletion \\n\\nThis page is not unambi...</td>\n", "      <td>0</td>\n", "    </tr>\n", "    <tr>\n", "      <th>25230</th>\n", "      <td>, 9 April 2007 (UTC)\\n the reliability of JN s...</td>\n", "      <td>0</td>\n", "    </tr>\n", "    <tr>\n", "      <th>140282</th>\n", "      <td>Perhaps the overwhelming evidence points to Ko...</td>\n", "      <td>0</td>\n", "    </tr>\n", "    <tr>\n", "      <th>103729</th>\n", "      <td>The t and the h are more or less silent, givin...</td>\n", "      <td>0</td>\n", "    </tr>\n", "    <tr>\n", "      <th>100377</th>\n", "      <td>\"\\nHey, thanks for adding a link to the Dink l...</td>\n", "      <td>0</td>\n", "    </tr>\n", "    <tr>\n", "      <th>152253</th>\n", "      <td>\"\\n\\n Quit removing the \"\"status unclear\"\" tab...</td>\n", "      <td>0</td>\n", "    </tr>\n", "    <tr>\n", "      <th>154092</th>\n", "      <td>article. Melodic death metal may have evolved,...</td>\n", "      <td>0</td>\n", "    </tr>\n", "    <tr>\n", "      <th>11635</th>\n", "      <td>Warning Me\\n\\nIf you dare to warn me I dont re...</td>\n", "      <td>1</td>\n", "    </tr>\n", "    <tr>\n", "      <th>51739</th>\n", "      <td>Windows RT Edit War (sigh) \\n\\nPlease contribu...</td>\n", "      <td>0</td>\n", "    </tr>\n", "    <tr>\n", "      <th>78156</th>\n", "      <td>And erroneous. The Massachusetts Bucks were ra...</td>\n", "      <td>0</td>\n", "    </tr>\n", "    <tr>\n", "      <th>86810</th>\n", "      <td>Sure, spatial vectors are used a lot to descri...</td>\n", "      <td>0</td>\n", "    </tr>\n", "    <tr>\n", "      <th>149980</th>\n", "      <td>Spelling\\nPlease do not make pointless notific...</td>\n", "      <td>0</td>\n", "    </tr>\n", "    <tr>\n", "      <th>154176</th>\n", "      <td>\"I approve of whoever nominated of the merger....</td>\n", "      <td>0</td>\n", "    </tr>\n", "    <tr>\n", "      <th>31884</th>\n", "      <td>Note to an admin reviewing the unblock request...</td>\n", "      <td>0</td>\n", "    </tr>\n", "  </tbody>\n", "</table>\n", "</div>" ],
        "text/plain" : [ "                                                     text  toxic\n", "49369   I propose that you mind you own business and k...      0\n", "156625  Contested deletion \\n\\nThis page is not unambi...      0\n", "25230   , 9 April 2007 (UTC)\\n the reliability of JN s...      0\n", "140282  Perhaps the overwhelming evidence points to Ko...      0\n", "103729  The t and the h are more or less silent, givin...      0\n", "100377  \"\\nHey, thanks for adding a link to the Dink l...      0\n", "152253  \"\\n\\n Quit removing the \"\"status unclear\"\" tab...      0\n", "154092  article. Melodic death metal may have evolved,...      0\n", "11635   Warning Me\\n\\nIf you dare to warn me I dont re...      1\n", "51739   Windows RT Edit War (sigh) \\n\\nPlease contribu...      0\n", "78156   And erroneous. The Massachusetts Bucks were ra...      0\n", "86810   Sure, spatial vectors are used a lot to descri...      0\n", "149980  Spelling\\nPlease do not make pointless notific...      0\n", "154176  \"I approve of whoever nominated of the merger....      0\n", "31884   Note to an admin reviewing the unblock request...      0" ]
      },
      "execution_count" : 4,
      "metadata" : { },
      "output_type" : "execute_result"
    } ],
    "execution_count" : 4
  }, {
    "cell_type" : "code",
    "source" : [ "data.info()" ],
    "metadata" : {
      "outputId" : "34729789-2789-4c8b-e16c-447e550934bf",
      "id" : "UJP2om5O0NUx",
      "cellId" : "qkhnay0ac3d6a5leecpm2c",
      "colab" : {
        "base_uri" : "https://localhost:8080/"
      }
    },
    "outputs" : [ {
      "name" : "stdout",
      "output_type" : "stream",
      "text" : [ "<class 'pandas.core.frame.DataFrame'>\n", "Int64Index: 159292 entries, 0 to 159450\n", "Data columns (total 2 columns):\n", "text     159292 non-null object\n", "toxic    159292 non-null int64\n", "dtypes: int64(1), object(1)\n", "memory usage: 3.6+ MB\n" ]
    } ],
    "execution_count" : 5
  }, {
    "cell_type" : "code",
    "source" : [ "data['toxic'].mean()" ],
    "metadata" : {
      "outputId" : "de776f7e-0a79-4a1b-ebd8-14189424fbe3",
      "id" : "PIA3ikSw0NUy",
      "cellId" : "g5jkfoqkpxrv3q38hwxdpc",
      "colab" : {
        "base_uri" : "https://localhost:8080/"
      }
    },
    "outputs" : [ {
      "data" : {
        "text/plain" : [ "0.10161213369158527" ]
      },
      "execution_count" : 6,
      "metadata" : { },
      "output_type" : "execute_result"
    } ],
    "execution_count" : 6
  }, {
    "cell_type" : "markdown",
    "source" : [ "В предоставленном файле содержатся текстовые комментарии на английском языке(text) и тональность отзыва(toxic). В файле содержится 159,5 тыс строк для обучения и проверки модели. Всего 10,2% от всех коментариев являются токсичными. Это может повлиять на результаты работы модели." ],
    "metadata" : {
      "cellId" : "c1suhts56s9z9zc99s5hjf",
      "id" : "eHWR27Oj0NUz"
    }
  }, {
    "cell_type" : "code",
    "source" : [ "data_toxic_1 = data[data['toxic']==1]" ],
    "metadata" : {
      "cellId" : "vu4uavh2i1ce17oiwrw6mf"
    },
    "outputs" : [ ],
    "execution_count" : 7
  }, {
    "cell_type" : "code",
    "source" : [ "data_toxic_0 = data[data['toxic']==0]" ],
    "metadata" : {
      "cellId" : "i5di1xln8ffvc5dvgfde"
    },
    "outputs" : [ ],
    "execution_count" : 8
  }, {
    "cell_type" : "markdown",
    "source" : [ "### Подготовка данных\n", "\n", "Для подготовки данных воспользуемся моделью BERT, обученной на английском языке. Для дальнейшей обработки была выбрана модель, которая была предобучена для определения тональности текста(toxic-bert)." ],
    "metadata" : {
      "cellId" : "9wl0erzsu7sn8aig9f5s9g",
      "id" : "sJZutHkO0NUz"
    }
  }, {
    "cell_type" : "code",
    "source" : [ "%time\n", "tokenizer = transformers.AutoTokenizer.from_pretrained('unitary/toxic-bert')" ],
    "metadata" : {
      "outputId" : "3b4ea3fc-c8ec-42e7-8d20-a848d5dc974d",
      "id" : "CUYzu76Yd7EW",
      "cellId" : "93l3xa871ggrhsyja9f13i",
      "colab" : {
        "base_uri" : "https://localhost:8080/"
      }
    },
    "outputs" : [ {
      "name" : "stdout",
      "output_type" : "stream",
      "text" : [ "CPU times: user 0 ns, sys: 0 ns, total: 0 ns\n", "Wall time: 6.68 µs\n" ]
    }, {
      "data" : {
        "application/vnd.jupyter.widget-view+json" : {
          "model_id" : "a91644a81ef74d3a8c81ab2a6051ab62",
          "version_major" : 2,
          "version_minor" : 0
        },
        "text/plain" : [ "HBox(children=(HTML(value='Downloading'), FloatProgress(value=0.0, max=174.0), HTML(value='')))" ]
      },
      "metadata" : { },
      "output_type" : "display_data"
    }, {
      "name" : "stdout",
      "output_type" : "stream",
      "text" : [ "\n" ]
    }, {
      "data" : {
        "application/vnd.jupyter.widget-view+json" : {
          "model_id" : "c9e84acc3ba646628f6c33e19fbf3931",
          "version_major" : 2,
          "version_minor" : 0
        },
        "text/plain" : [ "HBox(children=(HTML(value='Downloading'), FloatProgress(value=0.0, max=811.0), HTML(value='')))" ]
      },
      "metadata" : { },
      "output_type" : "display_data"
    }, {
      "name" : "stdout",
      "output_type" : "stream",
      "text" : [ "\n" ]
    }, {
      "data" : {
        "application/vnd.jupyter.widget-view+json" : {
          "model_id" : "b330e09255e24862a42900f3cd507b9f",
          "version_major" : 2,
          "version_minor" : 0
        },
        "text/plain" : [ "HBox(children=(HTML(value='Downloading'), FloatProgress(value=0.0, max=231508.0), HTML(value='')))" ]
      },
      "metadata" : { },
      "output_type" : "display_data"
    }, {
      "name" : "stdout",
      "output_type" : "stream",
      "text" : [ "\n" ]
    }, {
      "data" : {
        "application/vnd.jupyter.widget-view+json" : {
          "model_id" : "fcaacb74b86547fdbe62dcd028aa94c9",
          "version_major" : 2,
          "version_minor" : 0
        },
        "text/plain" : [ "HBox(children=(HTML(value='Downloading'), FloatProgress(value=0.0, max=112.0), HTML(value='')))" ]
      },
      "metadata" : { },
      "output_type" : "display_data"
    }, {
      "name" : "stdout",
      "output_type" : "stream",
      "text" : [ "\n" ]
    } ],
    "execution_count" : 9
  }, {
    "cell_type" : "code",
    "source" : [ "%%time\n", "tokenized = data['text'].apply(lambda x: \n", "                               tokenizer.encode(x,\n", "                                        add_special_tokens=True)) " ],
    "metadata" : {
      "outputId" : "735ec29b-bd97-4eb4-dc61-024cc863baef",
      "id" : "lddxfIpA1w12",
      "cellId" : "1a8tanpsviuowx4iqlqucl",
      "colab" : {
        "base_uri" : "https://localhost:8080/"
      }
    },
    "outputs" : [ {
      "name" : "stderr",
      "output_type" : "stream",
      "text" : [ "Token indices sequence length is longer than the specified maximum sequence length for this model (631 > 512). Running this sequence through the model will result in indexing errors\n" ]
    }, {
      "name" : "stdout",
      "output_type" : "stream",
      "text" : [ "CPU times: user 49.8 s, sys: 1.2 s, total: 51 s\n", "Wall time: 53.1 s\n" ]
    } ],
    "execution_count" : 10
  }, {
    "cell_type" : "markdown",
    "source" : [ "Найдем длину самого длинного отзыва и исключим слишком длинные(аномальные) отзывы из данных." ],
    "metadata" : {
      "cellId" : "nqei4elvpfgv7q761bmy4",
      "id" : "Y9k912Lg2nQI"
    }
  }, {
    "cell_type" : "code",
    "source" : [ "token_max = tokenized.apply(len).max()\n", "print('Макмисальная длина строки -', token_max)\n", "\n", "if token_max > 512:\n", "    ind = tokenized[tokenized.apply(len) > 512].index\n", "    print('Количество строк длиннее 512 -', \\\n", "                      tokenized[tokenized.apply(len) > 512].count())\n", "    print('Из них токсичных -', \\\n", "                     '%.3f' %(data['toxic'][ind].mean() * 10), '%.')\n", "    print('Исключим аномально длинные строки.')\n", "    \n", "    tokenized = tokenized.drop(index= ind)\n", "    data_clean = data.drop(index= ind)\n", "    n = 512\n", "else:\n", "    n = token_max" ],
    "metadata" : {
      "cellId" : "f2vhrbmon06715nr1251ir",
      "id" : "NIPbYAsl1xan"
    },
    "outputs" : [ {
      "name" : "stdout",
      "output_type" : "stream",
      "text" : [ "Макмисальная длина строки - 4950\n", "Количество строк длиннее 512 - 3503\n", "Из них токсичных - 0.979 %.\n", "Исключим аномально длинные строки.\n" ]
    } ],
    "execution_count" : 11
  }, {
    "cell_type" : "code",
    "source" : [ "padded = np.array([i + [0]*(n - len(i)) for i in tokenized.values])" ],
    "metadata" : {
      "cellId" : "8myt242yvzxp1f83viuxpd"
    },
    "outputs" : [ ],
    "execution_count" : 12
  }, {
    "cell_type" : "code",
    "source" : [ "attention_mask = np.where(padded != 0, 1, 0)" ],
    "metadata" : {
      "cellId" : "pfqtmmefj9a67uah10vtxq",
      "id" : "UMzzU4sSDyUI"
    },
    "outputs" : [ ],
    "execution_count" : 13
  }, {
    "cell_type" : "code",
    "source" : [ "config = transformers.BertConfig.from_json_file(\n", "           'conversational_cased_L-12_H-768_A-12_pt_v1/config.json')\n", "model = transformers.AutoModel.from_pretrained('unitary/toxic-bert')" ],
    "metadata" : {
      "outputId" : "93fc8072-6b8d-4b75-ab05-8d3334bedde5",
      "id" : "Z7wqsmpUmVJ3",
      "scrolled" : true,
      "cellId" : "p7m9dmlholjuq282hdok4j",
      "colab" : {
        "base_uri" : "https://localhost:8080/"
      }
    },
    "outputs" : [ {
      "data" : {
        "application/vnd.jupyter.widget-view+json" : {
          "model_id" : "f30e526b0f8548f3913ceda037c13564",
          "version_major" : 2,
          "version_minor" : 0
        },
        "text/plain" : [ "HBox(children=(HTML(value='Downloading'), FloatProgress(value=0.0, max=438033929.0), HTML(value='')))" ]
      },
      "metadata" : { },
      "output_type" : "display_data"
    }, {
      "name" : "stdout",
      "output_type" : "stream",
      "text" : [ "\n" ]
    }, {
      "name" : "stderr",
      "output_type" : "stream",
      "text" : [ "Some weights of the model checkpoint at unitary/toxic-bert were not used when initializing BertModel: ['classifier.weight', 'classifier.bias']\n", "- This IS expected if you are initializing BertModel from the checkpoint of a model trained on another task or with another architecture (e.g. initializing a BertForSequenceClassification model from a BertForPreTraining model).\n", "- This IS NOT expected if you are initializing BertModel from the checkpoint of a model that you expect to be exactly identical (initializing a BertForSequenceClassification model from a BertForSequenceClassification model).\n", "Failed to deserialize variable 'model'. Run the following code to delete it:\n", "  del_datasphere_variables('model')\n", "Traceback (most recent call last):\n", "  File \"/kernel/lib/python3.8/site-packages/ml_kernel/state/state_protocol.py\", line 283, in _load_component\n", "    value = unpickler.load()\n", "  File \"/usr/local/lib/python3.8/dist-packages/torch/storage.py\", line 161, in _load_from_bytes\n", "    return torch.load(io.BytesIO(b))\n", "  File \"/usr/local/lib/python3.8/dist-packages/torch/serialization.py\", line 608, in load\n", "    return _legacy_load(opened_file, map_location, pickle_module, **pickle_load_args)\n", "  File \"/usr/local/lib/python3.8/dist-packages/torch/serialization.py\", line 787, in _legacy_load\n", "    result = unpickler.load()\n", "  File \"/usr/local/lib/python3.8/dist-packages/torch/serialization.py\", line 743, in persistent_load\n", "    deserialized_objects[root_key] = restore_location(obj, location)\n", "  File \"/usr/local/lib/python3.8/dist-packages/torch/serialization.py\", line 175, in default_restore_location\n", "    result = fn(storage, location)\n", "  File \"/usr/local/lib/python3.8/dist-packages/torch/serialization.py\", line 151, in _cuda_deserialize\n", "    device = validate_cuda_device(location)\n", "  File \"/usr/local/lib/python3.8/dist-packages/torch/serialization.py\", line 135, in validate_cuda_device\n", "    raise RuntimeError('Attempting to deserialize object on a CUDA '\n", "RuntimeError: Attempting to deserialize object on a CUDA device but torch.cuda.is_available() is False. If you are running on a CPU-only machine, please use torch.load with map_location=torch.device('cpu') to map your storages to the CPU.\n", "\n", "The above exception was the direct cause of the following exception:\n", "\n", "ml_kernel.state.state_protocol.KernelStateProtocol.DeserializationException: ['model']\n" ]
    } ],
    "execution_count" : 14
  }, {
    "cell_type" : "code",
    "source" : [ "#!g2.mig\n", "if torch.cuda.is_available():\n", "    model.to('cuda')" ],
    "metadata" : {
      "cellId" : "mlc6jg4hy4c2ajtr3ry1t"
    },
    "outputs" : [ ],
    "execution_count" : 15
  }, {
    "cell_type" : "code",
    "source" : [ "#!g2.mig\n", "%%time\n", "batch_size = 10\n", "embeddings = []\n", "for i in notebook.tqdm(range(padded.shape[0] // batch_size + 1)):\n", "    batch = torch.LongTensor(padded[batch_size*i:batch_size*(i+1)]).to('cuda') \n", "    attention_mask_batch = torch.LongTensor(\n", "                                attention_mask[batch_size*i:batch_size*(i+1)]).to('cuda')\n", "        \n", "    with torch.no_grad():\n", "        batch_embeddings = model(batch, attention_mask=attention_mask_batch)\n", "        \n", "    embeddings.append(batch_embeddings[0][:,0,:].cpu().numpy())" ],
    "metadata" : {
      "cellId" : "lbfhmgpc69mzqpc0kexq",
      "id" : "S09j7pzr3auN"
    },
    "outputs" : [ {
      "data" : {
        "application/vnd.jupyter.widget-view+json" : {
          "model_id" : "b463cc39c8bb42dcbe76ac90d9464a9f",
          "version_major" : 2,
          "version_minor" : 0
        },
        "text/plain" : [ "HBox(children=(HTML(value=''), FloatProgress(value=0.0, max=15579.0), HTML(value='')))" ]
      },
      "metadata" : { },
      "output_type" : "display_data"
    }, {
      "name" : "stdout",
      "output_type" : "stream",
      "text" : [ "\n", "CPU times: user 29min 49s, sys: 21min 42s, total: 51min 32s\n", "Wall time: 51min 33s\n" ]
    } ],
    "execution_count" : 16
  }, {
    "cell_type" : "markdown",
    "source" : [ "Предобработка данных завершена. Теперь можем перейти к обучению моделей и выбору лучшей." ],
    "metadata" : {
      "cellId" : "oaciv267bmrqg8ne7rd9"
    }
  }, {
    "cell_type" : "markdown",
    "source" : [ "## Обучение моделей" ],
    "metadata" : {
      "cellId" : "in0qcd88vjwltsihxx0d",
      "id" : "vA-_ssLz0NU2"
    }
  }, {
    "cell_type" : "markdown",
    "source" : [ "Для обучения выберим 3 модели - простую логистическую регрессию, решающий лес и модель с бустингом. Для обучения воспользуемся кросс-валидацией, а за метрику качества примем F1. Данная метрика является оптимальным показателем между полнотой и точностью предсказаний. Так как в полученных данных был обнаружен дисбаланс классов, при обученнии модели будем учитывать вес класов.\n", "\n", "Перед обучением моделей разделим выделенные данные на обучающие и тестовые выборки." ],
    "metadata" : {
      "cellId" : "gdq38ox4dkvkrw8xgw819g",
      "id" : "sj1U0UDj0NU2"
    }
  }, {
    "cell_type" : "code",
    "source" : [ "features = np.concatenate(embeddings)\n", "target = data_clean['toxic']" ],
    "metadata" : {
      "cellId" : "fcvzb7xaqiwp69jom78nci"
    },
    "outputs" : [ ],
    "execution_count" : 17
  }, {
    "cell_type" : "code",
    "source" : [ "features_train, features_test, \\\n", "target_train, target_test = train_test_split(features, target, \n", "                                             test_size=0.10, \n", "                                             stratify=target, \n", "                                             random_state=12345) " ],
    "metadata" : {
      "cellId" : "0cvivb3xqo455qga7ols1ah"
    },
    "outputs" : [ ],
    "execution_count" : 18
  }, {
    "cell_type" : "code",
    "source" : [ "# функция обучения модели\n", "def model_scorer(model_for_gcv, param):\n", "       \n", "    grid_CV = GridSearchCV(estimator = model_for_gcv,\n", "                           param_grid = param, \n", "                           n_jobs=-1, \n", "                           scoring='f1', \n", "                           cv=5)\n", "\n", "    grid_CV.fit(features_train, target_train)\n", "\n", "    model_gcv = grid_CV.best_estimator_\n", "    f_1 = grid_CV.best_score_\n", "    \n", "    print('Модель проверена. Лучшее значение'\n", "           + ' по результатам кросс-валидации -',\n", "          '%.3f' %f_1, '.')\n", "    \n", "    return model_gcv, f_1" ],
    "metadata" : {
      "cellId" : "o58lcq4jsgp7xqh4upt2u6"
    },
    "outputs" : [ ],
    "execution_count" : 19
  }, {
    "cell_type" : "markdown",
    "source" : [ "### Логистическая ригресия\n", "Начнем с самой простой модели - логистической регрессии." ],
    "metadata" : {
      "cellId" : "c3gw7lk5dspvfhjr9osgi"
    }
  }, {
    "cell_type" : "code",
    "source" : [ "#!c1.32\n", "%%time\n", "param_lr = {}\n", "model_lr, f1_lr = model_scorer(LogisticRegression(random_state=12345,\n", "                                                  class_weight='balanced',\n", "                                                  solver='lbfgs', \n", "                                                  max_iter=10000), \n", "                               param_lr)" ],
    "metadata" : {
      "cellId" : "ezcsc7p2ozh1gvfj3rlgsh"
    },
    "outputs" : [ {
      "name" : "stdout",
      "output_type" : "stream",
      "text" : [ "Модель проверена. Лучшее значение по результатам кросс-валидации - 0.928 .\n", "CPU times: user 18min 25s, sys: 38min 40s, total: 57min 6s\n", "Wall time: 4min 37s\n" ]
    } ],
    "execution_count" : 20
  }, {
    "cell_type" : "markdown",
    "source" : [ "### Случайный лес решающих деревьев\n", "Начнем с самой простой модели - логистической регрессии." ],
    "metadata" : {
      "cellId" : "qpwbqbwd9wizlkmkpsbjn"
    }
  }, {
    "cell_type" : "code",
    "source" : [ "#!c1.32\n", "%%time\n", "param_rfc = {'n_estimators' : range(30, 131, 20),\n", "             'max_depth' : range(5, 21, 5) \n", "            }\n", "model_rfc, f1_rfc = model_scorer(\n", "                         RandomForestClassifier(class_weight='balanced',\n", "                                                random_state=12345),\n", "                                 param_rfc)" ],
    "metadata" : {
      "cellId" : "rz1sceyht3bme9bdf8x2m"
    },
    "outputs" : [ {
      "name" : "stdout",
      "output_type" : "stream",
      "text" : [ "Модель проверена. Лучшее значение по результатам кросс-валидации - 0.945 .\n", "CPU times: user 13min 37s, sys: 2min 20s, total: 15min 57s\n", "Wall time: 44min 34s\n" ]
    } ],
    "execution_count" : 21
  }, {
    "cell_type" : "markdown",
    "source" : [ "### LGBMClassifier\n", "Последним обучим классификатор из библиотеки LGBM." ],
    "metadata" : {
      "cellId" : "34ospyb2gd6fdcccy2q5l4"
    }
  }, {
    "cell_type" : "code",
    "source" : [ "#!c1.32\n", "%%time\n", "param_lgbm = {'max_depth': range(5, 16, 5),\n", "              'learning_rate': [0.1, 0.3]\n", "             }\n", "model_lgbm, f1_lgbm = model_scorer(\n", "                         LGBMClassifier(boosting_type='gbdt', \n", "                                        class_weight='balanced',\n", "                                        num_leaves= 25,\n", "                                        random_state=12345), \n", "                         param_lgbm)" ],
    "metadata" : {
      "cellId" : "z0vru9209mdpk945ensmp"
    },
    "outputs" : [ {
      "name" : "stdout",
      "output_type" : "stream",
      "text" : [ "Модель проверена. Лучшее значение по результатам кросс-валидации - 0.936 .\n", "CPU times: user 3min 40s, sys: 31.2 s, total: 4min 12s\n", "Wall time: 2min 22s\n" ]
    } ],
    "execution_count" : 22
  }, {
    "cell_type" : "markdown",
    "source" : [ "### Анализ полученных результатов" ],
    "metadata" : {
      "cellId" : "28sl5pi59ycum46wslxb1"
    }
  }, {
    "cell_type" : "markdown",
    "source" : [ "Сведем полученные результары метрики по кросс-валидации в единую таблицу." ],
    "metadata" : {
      "cellId" : "zb8l5fgfkavkiwq2o162j"
    }
  }, {
    "cell_type" : "code",
    "source" : [ "pd.DataFrame([\n", "    ['Логистическая регрессия', round(f1_lr, 3)],\n", "    ['Случайный лес решающих деревьев', round(f1_rfc, 3)],\n", "    ['LightGBM', round(f1_lgbm, 3)],\n", "              ], columns=['Модель', 'F1'])" ],
    "metadata" : {
      "cellId" : "aaw3281u02a01avb84pc8t4"
    },
    "outputs" : [ {
      "data" : {
        "text/html" : [ "<div>\n", "<style scoped>\n", "    .dataframe tbody tr th:only-of-type {\n", "        vertical-align: middle;\n", "    }\n", "\n", "    .dataframe tbody tr th {\n", "        vertical-align: top;\n", "    }\n", "\n", "    .dataframe thead th {\n", "        text-align: right;\n", "    }\n", "</style>\n", "<table border=\"1\" class=\"dataframe\">\n", "  <thead>\n", "    <tr style=\"text-align: right;\">\n", "      <th></th>\n", "      <th>Модель</th>\n", "      <th>F1</th>\n", "    </tr>\n", "  </thead>\n", "  <tbody>\n", "    <tr>\n", "      <th>0</th>\n", "      <td>Логистическая регрессия</td>\n", "      <td>0.928</td>\n", "    </tr>\n", "    <tr>\n", "      <th>1</th>\n", "      <td>Случайный лес решающих деревьев</td>\n", "      <td>0.945</td>\n", "    </tr>\n", "    <tr>\n", "      <th>2</th>\n", "      <td>LightGBM</td>\n", "      <td>0.936</td>\n", "    </tr>\n", "  </tbody>\n", "</table>\n", "</div>" ],
        "text/plain" : [ "                            Модель     F1\n", "0          Логистическая регрессия  0.928\n", "1  Случайный лес решающих деревьев  0.945\n", "2                         LightGBM  0.936" ]
      },
      "execution_count" : 23,
      "metadata" : { },
      "output_type" : "execute_result"
    } ],
    "execution_count" : 23
  }, {
    "cell_type" : "markdown",
    "source" : [ "Лучший результат оказался у модели случайного леса. Проверим лучшею модель на тестовых данных." ],
    "metadata" : {
      "cellId" : "yq3mg9ewf3boodq723ffei"
    }
  }, {
    "cell_type" : "markdown",
    "source" : [ "### Проверка лучшей модели на тестовых данных" ],
    "metadata" : {
      "cellId" : "i3gibxzybmaw0jaby2omfj"
    }
  }, {
    "cell_type" : "code",
    "source" : [ "def tester(model_for_test):\n", "    pred_test = model_for_test.predict(features_test)\n", "    f_1 = f1_score(target_test, pred_test)\n", "    print('F1 тестовых данных =', '%.3f' %f_1)" ],
    "metadata" : {
      "cellId" : "8hby1bzqzvqr0uqte4wy"
    },
    "outputs" : [ ],
    "execution_count" : 24
  }, {
    "cell_type" : "code",
    "source" : [ "tester(model_rfc)" ],
    "metadata" : {
      "cellId" : "53i0ea65o0c9cqfgi7n1xu"
    },
    "outputs" : [ {
      "name" : "stdout",
      "output_type" : "stream",
      "text" : [ "F1 тестовых данных = 0.941\n" ]
    } ],
    "execution_count" : 25
  }, {
    "cell_type" : "markdown",
    "source" : [ "Метрика качества на тестовых данных вполне удовлетворяет условию F1 > 0.75, а значит модель готова к использованию." ],
    "metadata" : {
      "cellId" : "nv8gs7ge3pbqdfqmyuzh"
    }
  }, {
    "cell_type" : "markdown",
    "source" : [ "## Выводы" ],
    "metadata" : {
      "cellId" : "5rtff3z8bo97dm9dd1figr",
      "id" : "NZS-Rotp0NU2"
    }
  }, {
    "cell_type" : "markdown",
    "source" : [ "На основании предоставленных данных была разработана модель для определения токсичности комментариев.\n", "\n", "Основные этапы работы:\n", "- рассмотрение полученных данных\n", "- предобработка полученных текстов с помощю библиотеки BERT( предобученный для токсичных текстов)\n", "- разделение данных на обучающие и тестовые\n", "- обучение моделей методом кросс-валлидации\n", "- проверка лучшей модели на тестовых данных\n", "\n", "На этапе рассмотрения полученных данных был обнаружен сильный дисбаланс между токсичными и нетоксичными комментариями. Так как токсичных комментариев всего 10%, было принято решение о уменьшении количества нетоксичных комментариев в данных до 20% от общего количества.\n", "\n", "С помощью библиотеки BERT была произведена обработка текстов, в результате которой были получены эмбендинги для последующего обучения моделей.\n", "\n", "Для обучения были выбаны 3 модели, на которых были получены следующие данные.\n", "\n", "|Модель|F1|\n", "|:----|:----:|\n", "|Логистическая регрессия | 0.928 |\n", "|Случайный лес решающих деревьев | 0.945 |\n", "|LightGBM | 0.936 |\n", "\n", "Как видно из таблицы, лучшие результаты получены у модели - случайный лес решающих деревьев. \n", "\n", "На тестовой выборке у лучшей модели было получено следующее значение метрики качества:\n", "\n", "- обучающие данные - 0.945\n", "- тестовые данные - 0.941\n", "\n", "Как видно, модель успешно предсказывает значения и готова к дальнейшему использованию." ],
    "metadata" : {
      "cellId" : "aoe1wvxvax947o9vxu576v"
    }
  } ]
}
